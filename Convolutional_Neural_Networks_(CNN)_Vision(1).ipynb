{
  "cells": [
    {
      "cell_type": "markdown",
      "metadata": {
        "id": "view-in-github",
        "colab_type": "text"
      },
      "source": [
        "<a href=\"https://colab.research.google.com/github/nelkui/git-repository/blob/machinelearning/Convolutional_Neural_Networks_(CNN)_Vision(1).ipynb\" target=\"_parent\"><img src=\"https://colab.research.google.com/assets/colab-badge.svg\" alt=\"Open In Colab\"/></a>"
      ]
    },
    {
      "cell_type": "markdown",
      "id": "5a8e0f5d",
      "metadata": {
        "id": "5a8e0f5d"
      },
      "source": [
        "- Multi- classification problem -\n",
        "- CNN or convnet\n",
        "\n",
        "- NLP, recommender systems\n",
        "\n",
        "- MNIST - 60, 000 Labeled images 10 0000 testing\n",
        "\n",
        "- 28 by 28 pixel images - 784 features - Numpy arrays\n",
        "\n",
        "- Grayscale - 0-255\n",
        "\n",
        "- CNN- output prob- 0.95878 - 0, 1- 0.000012, 2- 0.012222, 3, 4, = 1.0 [0,1,2,3,4,5,6,7,8,9] = sum - 1\n",
        "\n",
        "\n",
        "- Reproducibility in Keras and Deep learning\n",
        "\n",
        "- parallelize - different results\n",
        "\n",
        "- network - model\n",
        "\n",
        "- sequence of layers - neurons - learn from samples\n",
        "- stack the deeper - deep learning\n",
        "\n",
        "- loss function - target value\n",
        "\n",
        "- lower value loss function - model is performing well\n",
        "\n",
        "optimizer - values loss function - tune the network"
      ]
    },
    {
      "cell_type": "code",
      "execution_count": null,
      "id": "95722e26",
      "metadata": {
        "id": "95722e26"
      },
      "outputs": [],
      "source": [
        "from tensorflow.keras.datasets import mnist"
      ]
    },
    {
      "cell_type": "code",
      "source": [
        "type(mnist)"
      ],
      "metadata": {
        "colab": {
          "base_uri": "https://localhost:8080/"
        },
        "id": "TF8WNM7CSCNT",
        "outputId": "344b0e3a-8b32-48d5-cc38-f57f1964ae77"
      },
      "id": "TF8WNM7CSCNT",
      "execution_count": null,
      "outputs": [
        {
          "output_type": "execute_result",
          "data": {
            "text/plain": [
              "module"
            ]
          },
          "metadata": {},
          "execution_count": 3
        }
      ]
    },
    {
      "cell_type": "code",
      "execution_count": null,
      "id": "736cba60",
      "metadata": {
        "colab": {
          "base_uri": "https://localhost:8080/"
        },
        "id": "736cba60",
        "outputId": "c4835b52-55a8-425d-e413-b728c42b4382"
      },
      "outputs": [
        {
          "output_type": "stream",
          "name": "stdout",
          "text": [
            "Downloading data from https://storage.googleapis.com/tensorflow/tf-keras-datasets/mnist.npz\n",
            "11490434/11490434 [==============================] - 0s 0us/step\n"
          ]
        }
      ],
      "source": [
        "(X_train, y_train),(X_test, y_test)= mnist.load_data()"
      ]
    },
    {
      "cell_type": "code",
      "source": [
        "X_train.shape"
      ],
      "metadata": {
        "colab": {
          "base_uri": "https://localhost:8080/"
        },
        "id": "zbynNyezUqoF",
        "outputId": "5b6f395d-8257-4a78-b0d1-bce4721674e4"
      },
      "id": "zbynNyezUqoF",
      "execution_count": null,
      "outputs": [
        {
          "output_type": "execute_result",
          "data": {
            "text/plain": [
              "(60000, 28, 28)"
            ]
          },
          "metadata": {},
          "execution_count": 5
        }
      ]
    },
    {
      "cell_type": "code",
      "source": [
        "y_train.shape"
      ],
      "metadata": {
        "colab": {
          "base_uri": "https://localhost:8080/"
        },
        "id": "iW4CHPP-Uq66",
        "outputId": "f4bfba7f-8e0d-42c3-c779-09b2381f2c2a"
      },
      "id": "iW4CHPP-Uq66",
      "execution_count": null,
      "outputs": [
        {
          "output_type": "execute_result",
          "data": {
            "text/plain": [
              "(60000,)"
            ]
          },
          "metadata": {},
          "execution_count": 6
        }
      ]
    },
    {
      "cell_type": "code",
      "source": [
        "y_train[200]"
      ],
      "metadata": {
        "colab": {
          "base_uri": "https://localhost:8080/"
        },
        "id": "199QXy1Ye7k3",
        "outputId": "adfefe64-bc22-4d49-846d-506c66e86577"
      },
      "id": "199QXy1Ye7k3",
      "execution_count": null,
      "outputs": [
        {
          "output_type": "execute_result",
          "data": {
            "text/plain": [
              "1"
            ]
          },
          "metadata": {},
          "execution_count": 10
        }
      ]
    },
    {
      "cell_type": "code",
      "source": [
        "X_train[200]\n"
      ],
      "metadata": {
        "id": "ZU3wM2hwe70u",
        "colab": {
          "base_uri": "https://localhost:8080/"
        },
        "outputId": "756cb5e0-e9ac-47d9-a11b-3072ae58a0fd"
      },
      "id": "ZU3wM2hwe70u",
      "execution_count": null,
      "outputs": [
        {
          "output_type": "execute_result",
          "data": {
            "text/plain": [
              "array([[  0,   0,   0,   0,   0,   0,   0,   0,   0,   0,   0,   0,   0,\n",
              "          0,   0,   0,   0,   0,   0,   0,   0,   0,   0,   0,   0,   0,\n",
              "          0,   0],\n",
              "       [  0,   0,   0,   0,   0,   0,   0,   0,   0,   0,   0,   0,   0,\n",
              "          0,   0,   0,   0,   0,   0,   0,   0,   0,   0,   0,   0,   0,\n",
              "          0,   0],\n",
              "       [  0,   0,   0,   0,   0,   0,   0,   0,   0,   0,   0,   0,   0,\n",
              "          0,   0,   0,   0,   0,   0,   0,   0,   0,   0,   0,   0,   0,\n",
              "          0,   0],\n",
              "       [  0,   0,   0,   0,   0,   0,   0,   0,   0,   0,   0,   0,   0,\n",
              "          0,   0,   0,   0,   0,   0,   0,   0,   0,   0,   0,   0,   0,\n",
              "          0,   0],\n",
              "       [  0,   0,   0,   0,   0,   0,   0,   0,   0,   0,   0,  29, 197,\n",
              "        255,  84,   0,   0,   0,   0,   0,   0,   0,   0,   0,   0,   0,\n",
              "          0,   0],\n",
              "       [  0,   0,   0,   0,   0,   0,   0,   0,   0,   0,   0,  85, 251,\n",
              "        253,  83,   0,   0,   0,   0,   0,   0,   0,   0,   0,   0,   0,\n",
              "          0,   0],\n",
              "       [  0,   0,   0,   0,   0,   0,   0,   0,   0,   0,   0,  86, 253,\n",
              "        254, 253,   0,   0,   0,   0,   0,   0,   0,   0,   0,   0,   0,\n",
              "          0,   0],\n",
              "       [  0,   0,   0,   0,   0,   0,   0,   0,   0,   0,   0,  85, 251,\n",
              "        253, 251,   0,   0,   0,   0,   0,   0,   0,   0,   0,   0,   0,\n",
              "          0,   0],\n",
              "       [  0,   0,   0,   0,   0,   0,   0,   0,   0,   0,   0,  86, 253,\n",
              "        254, 253, 169,   0,   0,   0,   0,   0,   0,   0,   0,   0,   0,\n",
              "          0,   0],\n",
              "       [  0,   0,   0,   0,   0,   0,   0,   0,   0,   0,   0,  85, 251,\n",
              "        253, 251, 168,   0,   0,   0,   0,   0,   0,   0,   0,   0,   0,\n",
              "          0,   0],\n",
              "       [  0,   0,   0,   0,   0,   0,   0,   0,   0,   0,   0,  86, 253,\n",
              "        254, 253, 169,   0,   0,   0,   0,   0,   0,   0,   0,   0,   0,\n",
              "          0,   0],\n",
              "       [  0,   0,   0,   0,   0,   0,   0,   0,   0,   0,   0,  28, 196,\n",
              "        253, 251, 168,   0,   0,   0,   0,   0,   0,   0,   0,   0,   0,\n",
              "          0,   0],\n",
              "       [  0,   0,   0,   0,   0,   0,   0,   0,   0,   0,   0,   0, 169,\n",
              "        254, 253, 169,   0,   0,   0,   0,   0,   0,   0,   0,   0,   0,\n",
              "          0,   0],\n",
              "       [  0,   0,   0,   0,   0,   0,   0,   0,   0,   0,   0,   0, 168,\n",
              "        253, 251, 168,   0,   0,   0,   0,   0,   0,   0,   0,   0,   0,\n",
              "          0,   0],\n",
              "       [  0,   0,   0,   0,   0,   0,   0,   0,   0,   0,   0,   0, 169,\n",
              "        254, 253, 169,   0,   0,   0,   0,   0,   0,   0,   0,   0,   0,\n",
              "          0,   0],\n",
              "       [  0,   0,   0,   0,   0,   0,   0,   0,   0,   0,   0,   0, 168,\n",
              "        253, 251, 168,   0,   0,   0,   0,   0,   0,   0,   0,   0,   0,\n",
              "          0,   0],\n",
              "       [  0,   0,   0,   0,   0,   0,   0,   0,   0,   0,   0,   0,   0,\n",
              "        254, 253, 254, 139,   0,   0,   0,   0,   0,   0,   0,   0,   0,\n",
              "          0,   0],\n",
              "       [  0,   0,   0,   0,   0,   0,   0,   0,   0,   0,   0,   0,   0,\n",
              "        253, 251, 253, 251,   0,   0,   0,   0,   0,   0,   0,   0,   0,\n",
              "          0,   0],\n",
              "       [  0,   0,   0,   0,   0,   0,   0,   0,   0,   0,   0,   0,   0,\n",
              "        254, 253, 254, 253,  57,   0,   0,   0,   0,   0,   0,   0,   0,\n",
              "          0,   0],\n",
              "       [  0,   0,   0,   0,   0,   0,   0,   0,   0,   0,   0,   0,   0,\n",
              "        253, 251, 253, 251, 168,   0,   0,   0,   0,   0,   0,   0,   0,\n",
              "          0,   0],\n",
              "       [  0,   0,   0,   0,   0,   0,   0,   0,   0,   0,   0,   0,   0,\n",
              "        198, 253, 254, 253, 114,   0,   0,   0,   0,   0,   0,   0,   0,\n",
              "          0,   0],\n",
              "       [  0,   0,   0,   0,   0,   0,   0,   0,   0,   0,   0,   0,   0,\n",
              "         85, 251, 253, 251,   0,   0,   0,   0,   0,   0,   0,   0,   0,\n",
              "          0,   0],\n",
              "       [  0,   0,   0,   0,   0,   0,   0,   0,   0,   0,   0,   0,   0,\n",
              "         85, 253, 254, 253,   0,   0,   0,   0,   0,   0,   0,   0,   0,\n",
              "          0,   0],\n",
              "       [  0,   0,   0,   0,   0,   0,   0,   0,   0,   0,   0,   0,   0,\n",
              "         28,  83, 196,  83,   0,   0,   0,   0,   0,   0,   0,   0,   0,\n",
              "          0,   0],\n",
              "       [  0,   0,   0,   0,   0,   0,   0,   0,   0,   0,   0,   0,   0,\n",
              "          0,   0,   0,   0,   0,   0,   0,   0,   0,   0,   0,   0,   0,\n",
              "          0,   0],\n",
              "       [  0,   0,   0,   0,   0,   0,   0,   0,   0,   0,   0,   0,   0,\n",
              "          0,   0,   0,   0,   0,   0,   0,   0,   0,   0,   0,   0,   0,\n",
              "          0,   0],\n",
              "       [  0,   0,   0,   0,   0,   0,   0,   0,   0,   0,   0,   0,   0,\n",
              "          0,   0,   0,   0,   0,   0,   0,   0,   0,   0,   0,   0,   0,\n",
              "          0,   0],\n",
              "       [  0,   0,   0,   0,   0,   0,   0,   0,   0,   0,   0,   0,   0,\n",
              "          0,   0,   0,   0,   0,   0,   0,   0,   0,   0,   0,   0,   0,\n",
              "          0,   0]], dtype=uint8)"
            ]
          },
          "metadata": {},
          "execution_count": 11
        }
      ]
    },
    {
      "cell_type": "code",
      "source": [
        "y_train[1]"
      ],
      "metadata": {
        "colab": {
          "base_uri": "https://localhost:8080/"
        },
        "id": "FvXTBGQNU29A",
        "outputId": "331c131e-bfab-4557-b097-e4eb9fe6eb0f"
      },
      "id": "FvXTBGQNU29A",
      "execution_count": null,
      "outputs": [
        {
          "output_type": "execute_result",
          "data": {
            "text/plain": [
              "0"
            ]
          },
          "metadata": {},
          "execution_count": 12
        }
      ]
    },
    {
      "cell_type": "code",
      "source": [
        "X_test.shape"
      ],
      "metadata": {
        "colab": {
          "base_uri": "https://localhost:8080/"
        },
        "id": "r7vH-3wTU3Bp",
        "outputId": "08d155bf-5fda-4b70-bab9-514b4545b522"
      },
      "id": "r7vH-3wTU3Bp",
      "execution_count": null,
      "outputs": [
        {
          "output_type": "execute_result",
          "data": {
            "text/plain": [
              "(10000, 28, 28)"
            ]
          },
          "metadata": {},
          "execution_count": 13
        }
      ]
    },
    {
      "cell_type": "code",
      "source": [
        "60000/70000*100"
      ],
      "metadata": {
        "colab": {
          "base_uri": "https://localhost:8080/"
        },
        "id": "JiWqWxK1U3DG",
        "outputId": "e04d729f-a563-4c94-8d66-3b37607ecd2e"
      },
      "id": "JiWqWxK1U3DG",
      "execution_count": null,
      "outputs": [
        {
          "output_type": "execute_result",
          "data": {
            "text/plain": [
              "85.71428571428571"
            ]
          },
          "metadata": {},
          "execution_count": 14
        }
      ]
    },
    {
      "cell_type": "code",
      "source": [
        "# 85% is used for training and 15% used for testing"
      ],
      "metadata": {
        "id": "XHTdIsX3U3EM"
      },
      "id": "XHTdIsX3U3EM",
      "execution_count": null,
      "outputs": []
    },
    {
      "cell_type": "code",
      "execution_count": null,
      "id": "36e64433",
      "metadata": {
        "colab": {
          "base_uri": "https://localhost:8080/"
        },
        "id": "36e64433",
        "outputId": "2064030f-0a86-458e-c4ab-755b9da266b1"
      },
      "outputs": [
        {
          "output_type": "execute_result",
          "data": {
            "text/plain": [
              "0"
            ]
          },
          "metadata": {},
          "execution_count": 16
        }
      ],
      "source": [
        "y_train[1]"
      ]
    },
    {
      "cell_type": "code",
      "source": [],
      "metadata": {
        "id": "pMhRICcFXeGQ"
      },
      "id": "pMhRICcFXeGQ",
      "execution_count": null,
      "outputs": []
    },
    {
      "cell_type": "code",
      "execution_count": null,
      "id": "22d520bb",
      "metadata": {
        "colab": {
          "base_uri": "https://localhost:8080/"
        },
        "id": "22d520bb",
        "outputId": "3ddccafc-08ef-4dd6-ad12-2e96ec26ae45"
      },
      "outputs": [
        {
          "output_type": "execute_result",
          "data": {
            "text/plain": [
              "(60000, 28, 28)"
            ]
          },
          "metadata": {},
          "execution_count": 17
        }
      ],
      "source": [
        "X_train.shape"
      ]
    },
    {
      "cell_type": "code",
      "execution_count": null,
      "id": "bea6298e",
      "metadata": {
        "colab": {
          "base_uri": "https://localhost:8080/"
        },
        "id": "bea6298e",
        "outputId": "e3cf224b-63d6-477b-edac-3e0099a48198"
      },
      "outputs": [
        {
          "output_type": "execute_result",
          "data": {
            "text/plain": [
              "(60000,)"
            ]
          },
          "metadata": {},
          "execution_count": 18
        }
      ],
      "source": [
        "y_train.shape"
      ]
    },
    {
      "cell_type": "code",
      "execution_count": null,
      "id": "c841cf5a",
      "metadata": {
        "id": "c841cf5a"
      },
      "outputs": [],
      "source": [
        "# visualize the dataset"
      ]
    },
    {
      "cell_type": "code",
      "execution_count": null,
      "id": "5f50405f",
      "metadata": {
        "id": "5f50405f"
      },
      "outputs": [],
      "source": [
        "%matplotlib inline"
      ]
    },
    {
      "cell_type": "code",
      "execution_count": null,
      "id": "64f917f1",
      "metadata": {
        "id": "64f917f1"
      },
      "outputs": [],
      "source": [
        "import matplotlib.pyplot as plt"
      ]
    },
    {
      "cell_type": "code",
      "execution_count": null,
      "id": "792a23ec",
      "metadata": {
        "id": "792a23ec"
      },
      "outputs": [],
      "source": [
        "import seaborn as sns"
      ]
    },
    {
      "cell_type": "code",
      "execution_count": null,
      "id": "85c08c5c",
      "metadata": {
        "id": "85c08c5c"
      },
      "outputs": [],
      "source": [
        "import numpy as np"
      ]
    },
    {
      "cell_type": "code",
      "source": [
        "index = np.random.choice(np.arange(len(X_train)), 24, replace=False )"
      ],
      "metadata": {
        "id": "zv8LM8u4TsWz"
      },
      "id": "zv8LM8u4TsWz",
      "execution_count": null,
      "outputs": []
    },
    {
      "cell_type": "code",
      "source": [
        "index"
      ],
      "metadata": {
        "colab": {
          "base_uri": "https://localhost:8080/"
        },
        "id": "mLfrrFhiTyYo",
        "outputId": "59b80a2e-7e9c-4240-eef3-22d6dff16f86"
      },
      "id": "mLfrrFhiTyYo",
      "execution_count": null,
      "outputs": [
        {
          "output_type": "execute_result",
          "data": {
            "text/plain": [
              "array([30103, 26989, 25440,  2173, 56425, 51415, 24070, 13698,  8162,\n",
              "         212,  1993, 14109, 20418, 17429, 11891, 24672, 54572,  7912,\n",
              "       34736, 51849, 27785, 43254, 38996, 44541])"
            ]
          },
          "metadata": {},
          "execution_count": 28
        }
      ]
    },
    {
      "cell_type": "code",
      "execution_count": null,
      "id": "ce666f59",
      "metadata": {
        "colab": {
          "base_uri": "https://localhost:8080/",
          "height": 815
        },
        "id": "ce666f59",
        "outputId": "f426f70d-1416-4386-bc81-bf89945637ad"
      },
      "outputs": [
        {
          "output_type": "display_data",
          "data": {
            "text/plain": [
              "<Figure size 1600x900 with 24 Axes>"
            ],
            "image/png": "[encoded data removed]"
          },
          "metadata": {}
        }
      ],
      "source": [
        "index = np.random.choice(np.arange(len(X_train)), 24, replace=False )\n",
        "figure, axes=plt.subplots(nrows=4, ncols=6, figsize=(16,9))\n",
        "for item in zip(axes.ravel(), X_train[index], y_train[index]):\n",
        "    axes, image, target =item\n",
        "    axes.imshow(image,cmap=plt.cm.gray_r)\n",
        "    axes.set_xticks([])\n",
        "    axes.set_yticks([])\n",
        "    axes.set_title(target)\n",
        "plt.tight_layout()\n",
        "\n"
      ]
    },
    {
      "cell_type": "code",
      "source": [
        "index"
      ],
      "metadata": {
        "colab": {
          "base_uri": "https://localhost:8080/"
        },
        "id": "jYWL_43rgh5P",
        "outputId": "5a2cd2a7-acc5-46e5-c6ac-9cff48da34f9"
      },
      "id": "jYWL_43rgh5P",
      "execution_count": null,
      "outputs": [
        {
          "output_type": "execute_result",
          "data": {
            "text/plain": [
              "array([35452,  3806,  3721, 17360, 36462, 51839, 39638, 40686, 48992,\n",
              "       53485, 28670, 43883,  6729, 40403, 26171,  5114, 57514, 58101,\n",
              "       37283, 48444, 13342, 22760,  7846,  1440])"
            ]
          },
          "metadata": {},
          "execution_count": 21
        }
      ]
    },
    {
      "cell_type": "code",
      "source": [
        "len(index)\n"
      ],
      "metadata": {
        "colab": {
          "base_uri": "https://localhost:8080/"
        },
        "id": "sm1OQCVPgpiQ",
        "outputId": "b1e9051f-c82d-4bcd-aef4-87b80d3bed5d"
      },
      "id": "sm1OQCVPgpiQ",
      "execution_count": null,
      "outputs": [
        {
          "output_type": "execute_result",
          "data": {
            "text/plain": [
              "24"
            ]
          },
          "metadata": {},
          "execution_count": 31
        }
      ]
    },
    {
      "cell_type": "code",
      "source": [
        "X_train.shape"
      ],
      "metadata": {
        "colab": {
          "base_uri": "https://localhost:8080/"
        },
        "id": "2NZQC__ygvvX",
        "outputId": "aebc691a-e5d0-4c37-d654-bcfe8de31c7e"
      },
      "id": "2NZQC__ygvvX",
      "execution_count": null,
      "outputs": [
        {
          "output_type": "execute_result",
          "data": {
            "text/plain": [
              "(60000, 28, 28)"
            ]
          },
          "metadata": {},
          "execution_count": 32
        }
      ]
    },
    {
      "cell_type": "code",
      "execution_count": null,
      "id": "ae92f5b4",
      "metadata": {
        "id": "ae92f5b4"
      },
      "outputs": [],
      "source": [
        "#Data preparation"
      ]
    },
    {
      "cell_type": "code",
      "execution_count": null,
      "id": "c34ced5a",
      "metadata": {
        "id": "c34ced5a"
      },
      "outputs": [],
      "source": [
        "# preprossed in a way that scikit models can work with them."
      ]
    },
    {
      "cell_type": "code",
      "execution_count": null,
      "id": "44309769",
      "metadata": {
        "id": "44309769"
      },
      "outputs": [],
      "source": [
        "# keras convnet - NumPy array inputs - shape, width, height and channels"
      ]
    },
    {
      "cell_type": "code",
      "execution_count": null,
      "id": "a039f0d0",
      "metadata": {
        "id": "a039f0d0"
      },
      "outputs": [],
      "source": [
        "# 0 - 255 - (28, 28, 1) more channels are created\n"
      ]
    },
    {
      "cell_type": "code",
      "execution_count": null,
      "id": "9ff6104e",
      "metadata": {
        "colab": {
          "base_uri": "https://localhost:8080/"
        },
        "id": "9ff6104e",
        "outputId": "b0824d74-c3cf-4862-c4df-2dd955cdda04"
      },
      "outputs": [
        {
          "output_type": "execute_result",
          "data": {
            "text/plain": [
              "(60000, 28, 28)"
            ]
          },
          "metadata": {},
          "execution_count": 24
        }
      ],
      "source": [
        "X_train.shape"
      ]
    },
    {
      "cell_type": "code",
      "execution_count": null,
      "id": "db96dcc6",
      "metadata": {
        "id": "db96dcc6"
      },
      "outputs": [],
      "source": [
        "X_train=X_train.reshape((60000,28,28,1))"
      ]
    },
    {
      "cell_type": "code",
      "execution_count": null,
      "id": "d63a4ad1",
      "metadata": {
        "colab": {
          "base_uri": "https://localhost:8080/"
        },
        "id": "d63a4ad1",
        "outputId": "a6fad74c-9164-4c7f-aa2a-3c1c7455a077"
      },
      "outputs": [
        {
          "output_type": "execute_result",
          "data": {
            "text/plain": [
              "(60000, 28, 28, 1)"
            ]
          },
          "metadata": {},
          "execution_count": 39
        }
      ],
      "source": [
        "X_train.shape"
      ]
    },
    {
      "cell_type": "code",
      "execution_count": null,
      "id": "245e7886",
      "metadata": {
        "colab": {
          "base_uri": "https://localhost:8080/"
        },
        "id": "245e7886",
        "outputId": "3790f453-f270-432a-c75a-8382ca7a780f"
      },
      "outputs": [
        {
          "output_type": "execute_result",
          "data": {
            "text/plain": [
              "(10000, 28, 28)"
            ]
          },
          "metadata": {},
          "execution_count": 35
        }
      ],
      "source": [
        "X_test.shape"
      ]
    },
    {
      "cell_type": "code",
      "execution_count": null,
      "id": "2d3fb4d8",
      "metadata": {
        "id": "2d3fb4d8"
      },
      "outputs": [],
      "source": [
        "X_test=X_test.reshape((10000,28, 28, 1))"
      ]
    },
    {
      "cell_type": "code",
      "execution_count": null,
      "id": "c7bc7f37",
      "metadata": {
        "colab": {
          "base_uri": "https://localhost:8080/"
        },
        "id": "c7bc7f37",
        "outputId": "73bb81a1-90e0-4be3-8e09-61000ad151db"
      },
      "outputs": [
        {
          "output_type": "execute_result",
          "data": {
            "text/plain": [
              "(10000, 28, 28, 1)"
            ]
          },
          "metadata": {},
          "execution_count": 37
        }
      ],
      "source": [
        "X_test.shape"
      ]
    },
    {
      "cell_type": "code",
      "execution_count": null,
      "id": "c01471c0",
      "metadata": {
        "id": "c01471c0"
      },
      "outputs": [],
      "source": [
        "# normalizing the data  0 -255 - 0:10:255 - 0-1\n"
      ]
    },
    {
      "cell_type": "code",
      "execution_count": null,
      "id": "27db1e28",
      "metadata": {
        "id": "27db1e28"
      },
      "outputs": [],
      "source": [
        "X_train=X_train.astype('float32')/255"
      ]
    },
    {
      "cell_type": "code",
      "execution_count": null,
      "id": "8ebbf0c6",
      "metadata": {
        "id": "8ebbf0c6"
      },
      "outputs": [],
      "source": [
        "X_test=X_test.astype('float32')/255"
      ]
    },
    {
      "cell_type": "code",
      "execution_count": null,
      "id": "1e533ebb",
      "metadata": {
        "id": "1e533ebb"
      },
      "outputs": [],
      "source": [
        "# One-Hot Encoding - []"
      ]
    },
    {
      "cell_type": "code",
      "source": [
        "y_train[2]"
      ],
      "metadata": {
        "colab": {
          "base_uri": "https://localhost:8080/"
        },
        "id": "81KtFBw1YUG4",
        "outputId": "36a39c8b-7748-4ad9-f180-3662d4ca277d"
      },
      "id": "81KtFBw1YUG4",
      "execution_count": null,
      "outputs": [
        {
          "output_type": "execute_result",
          "data": {
            "text/plain": [
              "4"
            ]
          },
          "metadata": {},
          "execution_count": 43
        }
      ]
    },
    {
      "cell_type": "markdown",
      "source": [
        "0,0,0,0,1,0,0,0"
      ],
      "metadata": {
        "id": "hfqOYh8hkV7v"
      },
      "id": "hfqOYh8hkV7v"
    },
    {
      "cell_type": "markdown",
      "source": [
        "[0.0, 0.00,0.00,0.0,0.9,.....] - network"
      ],
      "metadata": {
        "id": "B65dGdeejvdZ"
      },
      "id": "B65dGdeejvdZ"
    },
    {
      "cell_type": "code",
      "execution_count": null,
      "id": "7d625648",
      "metadata": {
        "colab": {
          "base_uri": "https://localhost:8080/"
        },
        "id": "7d625648",
        "outputId": "6b5fe962-f234-4e52-d992-ff2b65f00615"
      },
      "outputs": [
        {
          "output_type": "execute_result",
          "data": {
            "text/plain": [
              "array([0., 0., 0., 0., 0., 1., 0., 0., 0., 0.], dtype=float32)"
            ]
          },
          "metadata": {},
          "execution_count": 48
        }
      ],
      "source": [
        "y_train[100]"
      ]
    },
    {
      "cell_type": "code",
      "execution_count": null,
      "id": "fd40af7d",
      "metadata": {
        "scrolled": true,
        "id": "fd40af7d"
      },
      "outputs": [],
      "source": [
        "from tensorflow.keras.utils import to_categorical"
      ]
    },
    {
      "cell_type": "code",
      "execution_count": null,
      "id": "8fa34ec5",
      "metadata": {
        "id": "8fa34ec5"
      },
      "outputs": [],
      "source": [
        "y_train=to_categorical(y_train)"
      ]
    },
    {
      "cell_type": "code",
      "execution_count": null,
      "id": "cc499304",
      "metadata": {
        "colab": {
          "base_uri": "https://localhost:8080/"
        },
        "id": "cc499304",
        "outputId": "03bc4a0a-d896-4b78-f014-0474c387537d"
      },
      "outputs": [
        {
          "output_type": "execute_result",
          "data": {
            "text/plain": [
              "array([0., 0., 0., 1., 0., 0., 0., 0., 0., 0.], dtype=float32)"
            ]
          },
          "metadata": {},
          "execution_count": 47
        }
      ],
      "source": [
        "y_train[10]"
      ]
    },
    {
      "cell_type": "code",
      "execution_count": null,
      "id": "e5ea0d0f",
      "metadata": {
        "id": "e5ea0d0f"
      },
      "outputs": [],
      "source": [
        "y_test=to_categorical(y_test)"
      ]
    },
    {
      "cell_type": "code",
      "execution_count": null,
      "id": "1fa64e89",
      "metadata": {
        "colab": {
          "base_uri": "https://localhost:8080/"
        },
        "id": "1fa64e89",
        "outputId": "2e88d192-14dc-44f7-de98-f875c5f3a14d"
      },
      "outputs": [
        {
          "output_type": "execute_result",
          "data": {
            "text/plain": [
              "(10000, 10)"
            ]
          },
          "metadata": {},
          "execution_count": 50
        }
      ],
      "source": [
        "y_test.shape"
      ]
    },
    {
      "cell_type": "code",
      "execution_count": null,
      "id": "e5982e27",
      "metadata": {
        "id": "e5982e27"
      },
      "outputs": [],
      "source": [
        "# Creating the CNN"
      ]
    },
    {
      "cell_type": "code",
      "execution_count": null,
      "id": "99947e7a",
      "metadata": {
        "id": "99947e7a"
      },
      "outputs": [],
      "source": [
        "# Sequential,"
      ]
    },
    {
      "cell_type": "code",
      "execution_count": null,
      "id": "c3da3fa5",
      "metadata": {
        "id": "c3da3fa5"
      },
      "outputs": [],
      "source": [
        "from tensorflow.keras.models import Sequential"
      ]
    },
    {
      "cell_type": "code",
      "execution_count": null,
      "id": "f556f5be",
      "metadata": {
        "id": "f556f5be"
      },
      "outputs": [],
      "source": [
        "cnn=Sequential()"
      ]
    },
    {
      "cell_type": "code",
      "execution_count": null,
      "id": "4f2214f5",
      "metadata": {
        "colab": {
          "base_uri": "https://localhost:8080/"
        },
        "id": "4f2214f5",
        "outputId": "55bd17ec-d278-4669-cfca-f490c908c83d"
      },
      "outputs": [
        {
          "output_type": "execute_result",
          "data": {
            "text/plain": [
              "<keras.src.engine.sequential.Sequential at 0x7bc2fd1bee60>"
            ]
          },
          "metadata": {},
          "execution_count": 55
        }
      ],
      "source": [
        "cnn"
      ]
    },
    {
      "cell_type": "code",
      "execution_count": null,
      "id": "2efcf637",
      "metadata": {
        "id": "2efcf637"
      },
      "outputs": [],
      "source": [
        "from tensorflow.keras.layers import Conv2D, Dense, Flatten, MaxPooling2D"
      ]
    },
    {
      "cell_type": "code",
      "execution_count": null,
      "id": "313c6a0d",
      "metadata": {
        "id": "313c6a0d"
      },
      "outputs": [],
      "source": [
        "# Add a convolution layer"
      ]
    },
    {
      "cell_type": "code",
      "execution_count": null,
      "id": "d025d2cf",
      "metadata": {
        "id": "d025d2cf"
      },
      "outputs": [],
      "source": [
        "cnn.add(Conv2D(filters=64, kernel_size=(3,3), activation='relu', input_shape=(28,28,1)))"
      ]
    },
    {
      "cell_type": "code",
      "execution_count": null,
      "id": "59e13956",
      "metadata": {
        "colab": {
          "base_uri": "https://localhost:8080/"
        },
        "id": "59e13956",
        "outputId": "8cfd9c7c-4c26-4228-eece-b4db5f6dbd3d"
      },
      "outputs": [
        {
          "output_type": "execute_result",
          "data": {
            "text/plain": [
              "784"
            ]
          },
          "metadata": {},
          "execution_count": 40
        }
      ],
      "source": [
        "28*28"
      ]
    },
    {
      "cell_type": "code",
      "source": [
        "26*26*64"
      ],
      "metadata": {
        "colab": {
          "base_uri": "https://localhost:8080/"
        },
        "id": "UsqCn5TiN-K4",
        "outputId": "be287f8d-0852-493f-ef04-c4dd33633abb"
      },
      "id": "UsqCn5TiN-K4",
      "execution_count": null,
      "outputs": [
        {
          "output_type": "execute_result",
          "data": {
            "text/plain": [
              "43264"
            ]
          },
          "metadata": {},
          "execution_count": 41
        }
      ]
    },
    {
      "cell_type": "code",
      "source": [
        "24*24*64"
      ],
      "metadata": {
        "colab": {
          "base_uri": "https://localhost:8080/"
        },
        "id": "qeFM1lezPVcZ",
        "outputId": "3b6e5c1e-a715-4a78-adc5-7a1a8e60e9d6"
      },
      "id": "qeFM1lezPVcZ",
      "execution_count": null,
      "outputs": [
        {
          "output_type": "execute_result",
          "data": {
            "text/plain": [
              "36864"
            ]
          },
          "metadata": {},
          "execution_count": 42
        }
      ]
    },
    {
      "cell_type": "code",
      "source": [
        "cnn.add(MaxPooling2D(pool_size=(2,2)))"
      ],
      "metadata": {
        "id": "GXAXOXJVPd5o"
      },
      "id": "GXAXOXJVPd5o",
      "execution_count": null,
      "outputs": []
    },
    {
      "cell_type": "code",
      "source": [
        "cnn.add(Conv2D(filters=128, kernel_size=(3,3), activation='relu'))"
      ],
      "metadata": {
        "id": "GY2qMkv5RD9C"
      },
      "id": "GY2qMkv5RD9C",
      "execution_count": null,
      "outputs": []
    },
    {
      "cell_type": "code",
      "source": [
        "cnn.add(MaxPooling2D(pool_size=(2,2)))"
      ],
      "metadata": {
        "id": "CYRLwDYyRTS4"
      },
      "id": "CYRLwDYyRTS4",
      "execution_count": null,
      "outputs": []
    },
    {
      "cell_type": "code",
      "source": [
        "# Flattening of the results"
      ],
      "metadata": {
        "id": "a58j1ljRRXUZ"
      },
      "id": "a58j1ljRRXUZ",
      "execution_count": null,
      "outputs": []
    },
    {
      "cell_type": "code",
      "source": [
        "cnn.add(Flatten())"
      ],
      "metadata": {
        "id": "Dv2dR9tQSEII"
      },
      "id": "Dv2dR9tQSEII",
      "execution_count": null,
      "outputs": []
    },
    {
      "cell_type": "code",
      "source": [
        "5*5*128"
      ],
      "metadata": {
        "colab": {
          "base_uri": "https://localhost:8080/"
        },
        "id": "BsJZ05RtSGm4",
        "outputId": "f8f8b2d9-342e-4e24-8165-19203992d31f"
      },
      "id": "BsJZ05RtSGm4",
      "execution_count": null,
      "outputs": [
        {
          "output_type": "execute_result",
          "data": {
            "text/plain": [
              "3200"
            ]
          },
          "metadata": {},
          "execution_count": 48
        }
      ]
    },
    {
      "cell_type": "code",
      "source": [
        "# adding a dense layer"
      ],
      "metadata": {
        "id": "Dp308EHKSQB4"
      },
      "id": "Dp308EHKSQB4",
      "execution_count": null,
      "outputs": []
    },
    {
      "cell_type": "code",
      "source": [
        "cnn.add(Dense(units=128, activation='relu'))"
      ],
      "metadata": {
        "id": "oITgJdbEST3w"
      },
      "id": "oITgJdbEST3w",
      "execution_count": null,
      "outputs": []
    },
    {
      "cell_type": "code",
      "source": [
        "cnn.add(Dense(units=10, activation='softmax'))"
      ],
      "metadata": {
        "id": "NsfsOUCHSnxq"
      },
      "id": "NsfsOUCHSnxq",
      "execution_count": null,
      "outputs": []
    },
    {
      "cell_type": "code",
      "source": [
        "cnn.summary()"
      ],
      "metadata": {
        "colab": {
          "base_uri": "https://localhost:8080/"
        },
        "id": "Yv6vaaMZS--5",
        "outputId": "e339dd29-d9d1-4dca-edb6-463683604590"
      },
      "id": "Yv6vaaMZS--5",
      "execution_count": null,
      "outputs": [
        {
          "output_type": "stream",
          "name": "stdout",
          "text": [
            "Model: \"sequential\"\n",
            "_________________________________________________________________\n",
            " Layer (type)                Output Shape              Param #   \n",
            "=================================================================\n",
            " conv2d (Conv2D)             (None, 26, 26, 64)        640       \n",
            "                                                                 \n",
            " max_pooling2d (MaxPooling2  (None, 13, 13, 64)        0         \n",
            " D)                                                              \n",
            "                                                                 \n",
            " conv2d_1 (Conv2D)           (None, 11, 11, 128)       73856     \n",
            "                                                                 \n",
            " max_pooling2d_1 (MaxPoolin  (None, 5, 5, 128)         0         \n",
            " g2D)                                                            \n",
            "                                                                 \n",
            " flatten (Flatten)           (None, 3200)              0         \n",
            "                                                                 \n",
            " dense (Dense)               (None, 128)               409728    \n",
            "                                                                 \n",
            " dense_1 (Dense)             (None, 10)                1290      \n",
            "                                                                 \n",
            "=================================================================\n",
            "Total params: 485514 (1.85 MB)\n",
            "Trainable params: 485514 (1.85 MB)\n",
            "Non-trainable params: 0 (0.00 Byte)\n",
            "_________________________________________________________________\n"
          ]
        }
      ]
    },
    {
      "cell_type": "code",
      "source": [
        "from tensorflow.keras.utils import plot_model"
      ],
      "metadata": {
        "id": "BtcyTZ17TKNh"
      },
      "id": "BtcyTZ17TKNh",
      "execution_count": null,
      "outputs": []
    },
    {
      "cell_type": "code",
      "source": [
        "from IPython.display import Image"
      ],
      "metadata": {
        "id": "MnVUTTjYTi4A"
      },
      "id": "MnVUTTjYTi4A",
      "execution_count": null,
      "outputs": []
    },
    {
      "cell_type": "code",
      "source": [
        "plot_model(cnn, to_file='convnet.png', show_shapes=True, show_layer_names=True)\n",
        "Image(filename='convnet.png')"
      ],
      "metadata": {
        "colab": {
          "base_uri": "https://localhost:8080/",
          "height": 865
        },
        "id": "TNlv1uSvTn8h",
        "outputId": "327de817-6fa7-4b16-fb39-c7329432dfac"
      },
      "id": "TNlv1uSvTn8h",
      "execution_count": null,
      "outputs": [
        {
          "output_type": "execute_result",
          "data": {
            "image/png": "[encoded data removed]",
            "text/plain": [
              "<IPython.core.display.Image object>"
            ]
          },
          "metadata": {},
          "execution_count": 69
        }
      ]
    },
    {
      "cell_type": "code",
      "source": [
        "# compiling the model"
      ],
      "metadata": {
        "id": "EAl3Pm_FT8Wh"
      },
      "id": "EAl3Pm_FT8Wh",
      "execution_count": null,
      "outputs": []
    },
    {
      "cell_type": "code",
      "source": [
        "cnn.compile(optimizer='adam', loss='categorical_crossentropy', metrics=['accuracy'])"
      ],
      "metadata": {
        "id": "4Y35_UMiUrnR"
      },
      "id": "4Y35_UMiUrnR",
      "execution_count": null,
      "outputs": []
    },
    {
      "cell_type": "code",
      "source": [
        "# train and evaluate the model"
      ],
      "metadata": {
        "id": "_tiAeFclVE6g"
      },
      "id": "_tiAeFclVE6g",
      "execution_count": null,
      "outputs": []
    },
    {
      "cell_type": "code",
      "source": [
        "cnn.fit(X_train, y_train, epochs=10, batch_size=64, validation_split=0.1)"
      ],
      "metadata": {
        "colab": {
          "base_uri": "https://localhost:8080/"
        },
        "id": "4nfEhu73VKy6",
        "outputId": "e5cb87bb-0030-4af2-f80e-4a3223cc82e2"
      },
      "id": "4nfEhu73VKy6",
      "execution_count": null,
      "outputs": [
        {
          "output_type": "stream",
          "name": "stdout",
          "text": [
            "Epoch 1/10\n",
            "844/844 [==============================] - 4s 5ms/step - loss: 0.0120 - accuracy: 0.9964 - val_loss: 0.0385 - val_accuracy: 0.9908\n",
            "Epoch 2/10\n",
            "844/844 [==============================] - 5s 6ms/step - loss: 0.0100 - accuracy: 0.9964 - val_loss: 0.0430 - val_accuracy: 0.9895\n",
            "Epoch 3/10\n",
            "844/844 [==============================] - 4s 5ms/step - loss: 0.0083 - accuracy: 0.9975 - val_loss: 0.0402 - val_accuracy: 0.9913\n",
            "Epoch 4/10\n",
            "844/844 [==============================] - 4s 5ms/step - loss: 0.0064 - accuracy: 0.9976 - val_loss: 0.0451 - val_accuracy: 0.9913\n",
            "Epoch 5/10\n",
            "844/844 [==============================] - 4s 5ms/step - loss: 0.0062 - accuracy: 0.9979 - val_loss: 0.0433 - val_accuracy: 0.9925\n",
            "Epoch 6/10\n",
            "844/844 [==============================] - 4s 5ms/step - loss: 0.0057 - accuracy: 0.9980 - val_loss: 0.0438 - val_accuracy: 0.9927\n",
            "Epoch 7/10\n",
            "844/844 [==============================] - 4s 5ms/step - loss: 0.0062 - accuracy: 0.9979 - val_loss: 0.0499 - val_accuracy: 0.9913\n",
            "Epoch 8/10\n",
            "844/844 [==============================] - 5s 5ms/step - loss: 0.0041 - accuracy: 0.9987 - val_loss: 0.0478 - val_accuracy: 0.9923\n",
            "Epoch 9/10\n",
            "844/844 [==============================] - 5s 5ms/step - loss: 0.0055 - accuracy: 0.9980 - val_loss: 0.0518 - val_accuracy: 0.9923\n",
            "Epoch 10/10\n",
            "844/844 [==============================] - 4s 5ms/step - loss: 0.0030 - accuracy: 0.9991 - val_loss: 0.0486 - val_accuracy: 0.9925\n"
          ]
        },
        {
          "output_type": "execute_result",
          "data": {
            "text/plain": [
              "<keras.src.callbacks.History at 0x7bc300758d60>"
            ]
          },
          "metadata": {},
          "execution_count": 75
        }
      ]
    },
    {
      "cell_type": "markdown",
      "source": [
        "epochs - 2,5,8,10,12,15,20,50,100,200"
      ],
      "metadata": {
        "id": "jNpLgZtotIy2"
      },
      "id": "jNpLgZtotIy2"
    },
    {
      "cell_type": "code",
      "source": [
        "loss, accuracy=cnn.evaluate(X_test, y_test)"
      ],
      "metadata": {
        "colab": {
          "base_uri": "https://localhost:8080/"
        },
        "id": "aLwkafUCVZFx",
        "outputId": "502f7b4c-092b-467a-b1a1-ac9ff0081d3b"
      },
      "id": "aLwkafUCVZFx",
      "execution_count": null,
      "outputs": [
        {
          "output_type": "stream",
          "name": "stdout",
          "text": [
            "313/313 [==============================] - 1s 3ms/step - loss: 0.0400 - accuracy: 0.9914\n"
          ]
        }
      ]
    },
    {
      "cell_type": "code",
      "source": [
        "loss"
      ],
      "metadata": {
        "colab": {
          "base_uri": "https://localhost:8080/"
        },
        "id": "SrQKLj4VX5cx",
        "outputId": "c0543f70-489c-4faa-e9b6-0616f7ea636c"
      },
      "id": "SrQKLj4VX5cx",
      "execution_count": null,
      "outputs": [
        {
          "output_type": "execute_result",
          "data": {
            "text/plain": [
              "0.04003636911511421"
            ]
          },
          "metadata": {},
          "execution_count": 77
        }
      ]
    },
    {
      "cell_type": "code",
      "source": [
        "accuracy"
      ],
      "metadata": {
        "colab": {
          "base_uri": "https://localhost:8080/"
        },
        "id": "6n6JxDbyX86Y",
        "outputId": "8ea2c530-0e9f-4a6f-b2f8-84410a4f613c"
      },
      "id": "6n6JxDbyX86Y",
      "execution_count": null,
      "outputs": [
        {
          "output_type": "execute_result",
          "data": {
            "text/plain": [
              "0.9914000034332275"
            ]
          },
          "metadata": {},
          "execution_count": 78
        }
      ]
    },
    {
      "cell_type": "code",
      "source": [
        "# use the model to make predictions"
      ],
      "metadata": {
        "id": "nhkhKvnDX-wL"
      },
      "id": "nhkhKvnDX-wL",
      "execution_count": null,
      "outputs": []
    },
    {
      "cell_type": "code",
      "source": [
        "predictions=cnn.predict(X_test)"
      ],
      "metadata": {
        "colab": {
          "base_uri": "https://localhost:8080/"
        },
        "id": "I7CeTTeeZd7h",
        "outputId": "9c7f7231-48cc-41ac-9b7f-4969b7bb3006"
      },
      "id": "I7CeTTeeZd7h",
      "execution_count": null,
      "outputs": [
        {
          "output_type": "stream",
          "name": "stdout",
          "text": [
            "313/313 [==============================] - 1s 2ms/step\n"
          ]
        }
      ]
    },
    {
      "cell_type": "code",
      "source": [
        "y_test[321]"
      ],
      "metadata": {
        "colab": {
          "base_uri": "https://localhost:8080/"
        },
        "id": "7X2BN9MlZk3j",
        "outputId": "a8e540a9-7fbd-429f-d8e3-98a34f731d85"
      },
      "id": "7X2BN9MlZk3j",
      "execution_count": null,
      "outputs": [
        {
          "output_type": "execute_result",
          "data": {
            "text/plain": [
              "array([0., 0., 1., 0., 0., 0., 0., 0., 0., 0.], dtype=float32)"
            ]
          },
          "metadata": {},
          "execution_count": 97
        }
      ]
    },
    {
      "cell_type": "code",
      "source": [
        "predictions[321]"
      ],
      "metadata": {
        "colab": {
          "base_uri": "https://localhost:8080/"
        },
        "id": "HgNyzM8_eqwT",
        "outputId": "5d7039d8-79aa-41fd-b3ad-7816698c6677"
      },
      "id": "HgNyzM8_eqwT",
      "execution_count": null,
      "outputs": [
        {
          "output_type": "execute_result",
          "data": {
            "text/plain": [
              "array([2.2688142e-09, 3.6735643e-09, 4.3633342e-02, 5.5970389e-10,\n",
              "       1.5099455e-15, 7.6405606e-18, 4.2596402e-19, 9.5631516e-01,\n",
              "       2.7649719e-05, 2.3902881e-05], dtype=float32)"
            ]
          },
          "metadata": {},
          "execution_count": 98
        }
      ]
    },
    {
      "cell_type": "code",
      "source": [
        "for index, probability in enumerate(predictions[321]):\n",
        "  print(f'{index}: {probability:.10%}')"
      ],
      "metadata": {
        "colab": {
          "base_uri": "https://localhost:8080/"
        },
        "id": "GghMHThwZpo8",
        "outputId": "6a13d945-3160-47bd-dd91-6f9642a0fc41"
      },
      "id": "GghMHThwZpo8",
      "execution_count": null,
      "outputs": [
        {
          "output_type": "stream",
          "name": "stdout",
          "text": [
            "0: 0.0000002269%\n",
            "1: 0.0000003674%\n",
            "2: 4.3633341789%\n",
            "3: 0.0000000560%\n",
            "4: 0.0000000000%\n",
            "5: 0.0000000000%\n",
            "6: 0.0000000000%\n",
            "7: 95.6315159798%\n",
            "8: 0.0027649719%\n",
            "9: 0.0023902881%\n"
          ]
        }
      ]
    },
    {
      "cell_type": "code",
      "source": [
        "# Locating the incorrect predictions\n",
        "\n"
      ],
      "metadata": {
        "id": "Xd2JAeePaEPI"
      },
      "id": "Xd2JAeePaEPI",
      "execution_count": null,
      "outputs": []
    },
    {
      "cell_type": "code",
      "source": [
        "X_test.shape"
      ],
      "metadata": {
        "colab": {
          "base_uri": "https://localhost:8080/"
        },
        "id": "2xUnq44UjFj7",
        "outputId": "35d74cc5-e091-47cf-a621-af00f48a88a8"
      },
      "id": "2xUnq44UjFj7",
      "execution_count": null,
      "outputs": [
        {
          "output_type": "execute_result",
          "data": {
            "text/plain": [
              "(10000, 28, 28, 1)"
            ]
          },
          "metadata": {},
          "execution_count": 87
        }
      ]
    },
    {
      "cell_type": "code",
      "source": [
        "images =X_test.reshape((10000,28,28))"
      ],
      "metadata": {
        "id": "SsE0fymd_8e7"
      },
      "id": "SsE0fymd_8e7",
      "execution_count": null,
      "outputs": []
    },
    {
      "cell_type": "code",
      "source": [
        "images.shape"
      ],
      "metadata": {
        "colab": {
          "base_uri": "https://localhost:8080/"
        },
        "id": "zCJ88uWpAK0S",
        "outputId": "a526c636-281e-4994-8196-cdce6221f321"
      },
      "id": "zCJ88uWpAK0S",
      "execution_count": null,
      "outputs": [
        {
          "output_type": "execute_result",
          "data": {
            "text/plain": [
              "(10000, 28, 28)"
            ]
          },
          "metadata": {},
          "execution_count": 89
        }
      ]
    },
    {
      "cell_type": "code",
      "source": [
        "incorrect_predictions=[]"
      ],
      "metadata": {
        "id": "OF1JNmFAANc4"
      },
      "id": "OF1JNmFAANc4",
      "execution_count": null,
      "outputs": []
    },
    {
      "cell_type": "code",
      "source": [
        "# p -predicted value (What was predicted ) e- expected value (ground truth)"
      ],
      "metadata": {
        "id": "gqTZX-dYAZUx"
      },
      "id": "gqTZX-dYAZUx",
      "execution_count": null,
      "outputs": []
    },
    {
      "cell_type": "code",
      "source": [
        "# Numpy argmax - highest valued element"
      ],
      "metadata": {
        "id": "oWSXivJxAgS9"
      },
      "id": "oWSXivJxAgS9",
      "execution_count": null,
      "outputs": []
    },
    {
      "cell_type": "code",
      "source": [
        "for i, (p,e) in enumerate(zip(predictions, y_test)):\n",
        "    predicted, expected =np.argmax(p), np.argmax(e)\n",
        "\n",
        "    if predicted != expected: # the prediction is incorrect\n",
        "      incorrect_predictions.append((i, images[i], predicted, expected))\n"
      ],
      "metadata": {
        "id": "UqKGr5n0Ambp"
      },
      "id": "UqKGr5n0Ambp",
      "execution_count": null,
      "outputs": []
    },
    {
      "cell_type": "code",
      "source": [
        "  len(incorrect_predictions)"
      ],
      "metadata": {
        "colab": {
          "base_uri": "https://localhost:8080/"
        },
        "id": "H7Svn5gTBatX",
        "outputId": "501ae123-f5ec-42e3-a850-65ec55f5bdb9"
      },
      "id": "H7Svn5gTBatX",
      "execution_count": null,
      "outputs": [
        {
          "output_type": "execute_result",
          "data": {
            "text/plain": [
              "86"
            ]
          },
          "metadata": {},
          "execution_count": 92
        }
      ]
    },
    {
      "cell_type": "code",
      "source": [
        "y_test.shape"
      ],
      "metadata": {
        "colab": {
          "base_uri": "https://localhost:8080/"
        },
        "id": "E1GruncHgQ3u",
        "outputId": "053164ba-bffa-4054-9be0-13d28f598655"
      },
      "id": "E1GruncHgQ3u",
      "execution_count": null,
      "outputs": [
        {
          "output_type": "execute_result",
          "data": {
            "text/plain": [
              "(10000, 10)"
            ]
          },
          "metadata": {},
          "execution_count": 93
        }
      ]
    },
    {
      "cell_type": "code",
      "source": [
        "10000-86"
      ],
      "metadata": {
        "colab": {
          "base_uri": "https://localhost:8080/"
        },
        "id": "5J-Gr5UggU8K",
        "outputId": "3ceb7aa1-dfc0-4edd-ba6b-e06327a9dfb3"
      },
      "id": "5J-Gr5UggU8K",
      "execution_count": null,
      "outputs": [
        {
          "output_type": "execute_result",
          "data": {
            "text/plain": [
              "9914"
            ]
          },
          "metadata": {},
          "execution_count": 94
        }
      ]
    },
    {
      "cell_type": "code",
      "source": [
        "9914/10000*100"
      ],
      "metadata": {
        "colab": {
          "base_uri": "https://localhost:8080/"
        },
        "id": "rmP_uV7DB0p6",
        "outputId": "203144da-cd42-433f-f980-68e62f732c8e"
      },
      "id": "rmP_uV7DB0p6",
      "execution_count": null,
      "outputs": [
        {
          "output_type": "execute_result",
          "data": {
            "text/plain": [
              "99.14"
            ]
          },
          "metadata": {},
          "execution_count": 95
        }
      ]
    },
    {
      "cell_type": "code",
      "source": [
        "10000-86"
      ],
      "metadata": {
        "colab": {
          "base_uri": "https://localhost:8080/"
        },
        "id": "cTH-N672B8SC",
        "outputId": "0250b400-b699-42df-f58d-b55160b45125"
      },
      "id": "cTH-N672B8SC",
      "execution_count": null,
      "outputs": [
        {
          "output_type": "execute_result",
          "data": {
            "text/plain": [
              "9914"
            ]
          },
          "metadata": {},
          "execution_count": 82
        }
      ]
    },
    {
      "cell_type": "code",
      "source": [
        "figure, axes =plt.subplots(nrows=4, ncols=6, figsize=(16,12))\n",
        "\n",
        "for axes, item in zip(axes.ravel(), incorrect_predictions):\n",
        "  index, image, predicted, expected =item\n",
        "  axes.imshow(image, cmap=plt.cm.gray_r)\n",
        "  axes.set_xticks([])\n",
        "  axes.set_yticks([])\n",
        "  axes.set_title(f'index: {index}\\n p:{predicted}; e:{expected}')\n",
        "plt.tight_layout()"
      ],
      "metadata": {
        "colab": {
          "base_uri": "https://localhost:8080/",
          "height": 1000
        },
        "id": "7NyOZF5QCGw7",
        "outputId": "e171642a-828d-432d-9833-ba6a8522478d"
      },
      "id": "7NyOZF5QCGw7",
      "execution_count": null,
      "outputs": [
        {
          "output_type": "display_data",
          "data": {
            "text/plain": [
              "<Figure size 1600x1200 with 24 Axes>"
            ],
            "image/png": "[encoded data removed]"
          },
          "metadata": {}
        }
      ]
    },
    {
      "cell_type": "code",
      "source": [
        "def display_probabilities(prediction):\n",
        "  for index, probability in enumerate(prediction):\n",
        "    print(f'{index}: {probability:.10%}')"
      ],
      "metadata": {
        "id": "d66JWCrpDiAh"
      },
      "id": "d66JWCrpDiAh",
      "execution_count": null,
      "outputs": []
    },
    {
      "cell_type": "code",
      "source": [
        "display_probabilities(predictions[2035])"
      ],
      "metadata": {
        "colab": {
          "base_uri": "https://localhost:8080/"
        },
        "id": "dv7Rm0yuEZL_",
        "outputId": "d92d3e05-a06e-4d5f-fb57-ab35139fce35"
      },
      "id": "dv7Rm0yuEZL_",
      "execution_count": null,
      "outputs": [
        {
          "output_type": "stream",
          "name": "stdout",
          "text": [
            "0: 0.0000000000%\n",
            "1: 0.0000000000%\n",
            "2: 0.0000000000%\n",
            "3: 97.6054668427%\n",
            "4: 0.0000000000%\n",
            "5: 2.3945299909%\n",
            "6: 0.0000000000%\n",
            "7: 0.0000000008%\n",
            "8: 0.0000000000%\n",
            "9: 0.0000000002%\n"
          ]
        }
      ]
    },
    {
      "cell_type": "code",
      "source": [
        "cnn.save('mnist_cnn.h5')"
      ],
      "metadata": {
        "id": "1dsJLuh7EprT",
        "colab": {
          "base_uri": "https://localhost:8080/"
        },
        "outputId": "a5f605a5-c30f-41c3-aa5b-983200025540"
      },
      "id": "1dsJLuh7EprT",
      "execution_count": null,
      "outputs": [
        {
          "output_type": "stream",
          "name": "stderr",
          "text": [
            "/usr/local/lib/python3.10/dist-packages/keras/src/engine/training.py:3079: UserWarning: You are saving your model as an HDF5 file via `model.save()`. This file format is considered legacy. We recommend using instead the native Keras format, e.g. `model.save('my_model.keras')`.\n",
            "  saving_api.save_model(\n"
          ]
        }
      ]
    },
    {
      "cell_type": "code",
      "source": [
        "from tensorflow.keras.models import load_model"
      ],
      "metadata": {
        "id": "NE2lb6LLFfjA"
      },
      "id": "NE2lb6LLFfjA",
      "execution_count": null,
      "outputs": []
    },
    {
      "cell_type": "code",
      "source": [
        "cnn=load_model('mnist_cnn.h5')"
      ],
      "metadata": {
        "id": "-PZ7RJN5FpOb"
      },
      "id": "-PZ7RJN5FpOb",
      "execution_count": null,
      "outputs": []
    },
    {
      "cell_type": "code",
      "source": [
        "#Tensorboard End of the class today..."
      ],
      "metadata": {
        "id": "XQ6VAr0JFuXm"
      },
      "id": "XQ6VAr0JFuXm",
      "execution_count": null,
      "outputs": []
    }
  ],
  "metadata": {
    "kernelspec": {
      "display_name": "Python 3",
      "name": "python3"
    },
    "language_info": {
      "codemirror_mode": {
        "name": "ipython",
        "version": 3
      },
      "file_extension": ".py",
      "mimetype": "text/x-python",
      "name": "python",
      "nbconvert_exporter": "python",
      "pygments_lexer": "ipython3",
      "version": "3.9.16"
    },
    "colab": {
      "provenance": [],
      "gpuType": "T4",
      "include_colab_link": true
    },
    "accelerator": "GPU"
  },
  "nbformat": 4,
  "nbformat_minor": 5
}